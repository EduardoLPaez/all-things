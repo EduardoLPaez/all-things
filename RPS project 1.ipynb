{
 "cells": [
  {
   "cell_type": "markdown",
   "metadata": {},
   "source": [
    "<p>Import the choice function of the random module\n",
    "<br> https://stackoverflow.com/questions/306400/how-to-randomly-select-an-item-from-a-list\n",
    "\n",
    "<br> Assign to a list the 3 possible options: 'stone', 'paper' or 'scissors'.\n",
    "\n",
    " <br>Assign a variable to the maximum number of games: 1, 3, 5, etc ...\n",
    "\n",
    " <br>Assign a variable to the number of games a player must win to win.\n",
    " <br>Preferably the value will be based on the number of maximum games\n",
    "\n",
    " <br>Define a function that randomly returns one of the 3 options.\n",
    " <br>This will correspond to the play of the machine. Totally random.\n",
    "\n",
    "\n",
    " <br>Define a function that asks your choice: 'stone', 'paper' or 'scissors'\n",
    " <br>you should only allow one of the 3 options. This is defensive programming.\n",
    " <br>If it is not stone, paper or scissors keep asking until it is.\n",
    "\n",
    "\n",
    " <br>Define a function that resolves a combat.\n",
    " <br>Returns 0 if there is a tie, 1 if the machine wins, 2 if the human player wins\n",
    "\n",
    "    \n",
    " <br>Define a function that shows the choice of each player and the state of the game\n",
    " <br>This function should be used every time accumulated points are updated\n",
    "\n",
    "    \n",
    " <br>Create two variables that accumulate the wins of each participant\n",
    "\n",
    "\n",
    " <br>Create a loop that iterates while no player reaches the minimum of wins\n",
    " <br>necessary to win. Inside the loop solves the play of the\n",
    " <br>machine and ask the player's. Compare them and update the value of the variables\n",
    "<br>that accumulate the wins of each participant.\n",
    "</p>"
   ]
  },
  {
   "cell_type": "code",
   "execution_count": 4,
   "metadata": {},
   "outputs": [],
   "source": [
    "#import box\n",
    "import random as rm"
   ]
  },
  {
   "cell_type": "code",
   "execution_count": 3,
   "metadata": {},
   "outputs": [],
   "source": [
    "#class box\n",
    "class rps:#made a class for the \n",
    "    list3 = ['scissor', 'paper','rock']\n",
    "    def roll3():\n",
    "        return rm.choice(rps.list3)        \n",
    "    def check3 (a,b): #compares rolls for standart game and returns victor or tie.\n",
    "        if a == rps.list3[0] and b ==rps.list3[1]:           \n",
    "            return True\n",
    "        elif a == rps.list3[1] and b ==rps.list3[2]:         \n",
    "            return True\n",
    "        elif a == rps.list3[2] and b ==rps.list3[0]:         \n",
    "            return True\n",
    "        elif a==b:\n",
    "            return 'tie'\n",
    "        else:\n",
    "            return False\n",
    "    list5 =['scissor', 'paper','rock','lizard', 'spock']\n",
    "    def roll5():\n",
    "        return rm.choice(rps.list5)    \n",
    "    def check5(a,b): #compares rolls for the spock game and returns victor or tie.\n",
    "        if a==rps.list5[0]:\n",
    "            if b==rps.list5[1] or b==rps.list5[3]:\n",
    "                return True\n",
    "            else:\n",
    "                return False\n",
    "        elif a==rps.list5[1]:\n",
    "            if b==rps.list5[2] or b==rps.list5[4]:\n",
    "                return True\n",
    "            else:\n",
    "                return False\n",
    "        elif a==rps.list5[2]:\n",
    "            if b==rps.list5[0] or b==rps.list5[3]:\n",
    "                return True\n",
    "            else:\n",
    "                return False\n",
    "        elif a==rps.list5[3]:\n",
    "            if b==rps.list5[4] or b==rps.list5[1]:\n",
    "                return True\n",
    "            else:\n",
    "                return False\n",
    "        elif a==rps.list5[4]:\n",
    "            if b==rps.list5[0] or b==rps.list5[2]:\n",
    "                return True\n",
    "            else:\n",
    "                return False\n",
    "        elif a==b:\n",
    "            return 'tie'"
   ]
  },
  {
   "cell_type": "code",
   "execution_count": 5,
   "metadata": {},
   "outputs": [
    {
     "name": "stdout",
     "output_type": "stream",
     "text": [
      "Player two Wins\n",
      "number of player1 wins:  3 number of Player2 wins: 5  number of ties:  2\n"
     ]
    }
   ],
   "source": [
    "p1c, p2c,t= 0,0,0\n",
    "\n",
    "for i in range(100):\n",
    "    p1 = rps.roll3()\n",
    "    p2 = rps.roll3()\n",
    "    a=rps.check3 (p1, p2)\n",
    "    if a == True:\n",
    "        p1c=p1c+1\n",
    "    elif a== False:\n",
    "        p2c=p2c+1\n",
    "    else:\n",
    "        t =t+1\n",
    "    if p1c==5 or p2c==5:\n",
    "        break\n",
    "if p1c==5:\n",
    "    print ('Player one Wins!!')\n",
    "else:\n",
    "    print ('Player two Wins')\n",
    "print ('number of player1 wins: ', p1c, 'number of Player2 wins:', p2c,' number of ties: ',t)"
   ]
  },
  {
   "cell_type": "code",
   "execution_count": 11,
   "metadata": {},
   "outputs": [
    {
     "name": "stdout",
     "output_type": "stream",
     "text": [
      "Player two Wins\n",
      "number of player1 wins:  3 number of Player2 wins: 5  number of ties:  0\n"
     ]
    }
   ],
   "source": [
    "p1c, p2c,t= 0,0,0 #this case is for the rock, paper,scyssors, spok game.\n",
    "#while p1c!=5 or p2c!=5:\n",
    "for i in range(100): \n",
    "    p1 = rps.roll5()#a number between 1-5 is generated\n",
    "    p2 = rps.roll5()\n",
    "    a=rps.check5 (p1, p2)#then cheked with a function \n",
    "    if a == True: #and victor for the round is given by the return \n",
    "        p1c=p1c+1\n",
    "    elif a== False:\n",
    "        p2c=p2c+1\n",
    "    else:#ties, ie both players getting the same number are traked here.\n",
    "        t =t+1\n",
    "    if p1c==5 or p2c==5:\n",
    "        break\n",
    "if p1c==5:\n",
    "    print ('Player one Wins!!')\n",
    "else:\n",
    "    print ('Player two Wins')\n",
    "print ('number of player1 wins: ', p1c, 'number of Player2 wins:', p2c,' number of ties: ',t)"
   ]
  },
  {
   "cell_type": "code",
   "execution_count": null,
   "metadata": {},
   "outputs": [],
   "source": []
  }
 ],
 "metadata": {
  "kernelspec": {
   "display_name": "Python 3",
   "language": "python",
   "name": "python3"
  },
  "language_info": {
   "codemirror_mode": {
    "name": "ipython",
    "version": 3
   },
   "file_extension": ".py",
   "mimetype": "text/x-python",
   "name": "python",
   "nbconvert_exporter": "python",
   "pygments_lexer": "ipython3",
   "version": "3.7.1"
  }
 },
 "nbformat": 4,
 "nbformat_minor": 2
}
