{
 "cells": [
  {
   "cell_type": "markdown",
   "metadata": {},
   "source": [
    "snail problem. heres the text:\n",
    "A snail falls at the bottom of a 125 cm well. Each day the snail rises 30 cm. But at night, while sleeping, slides 20 cm because the walls are wet. How many days does it take to escape from the well?\n",
    "\n",
    "what needs to be anwered is:\n",
    "anwer with while, conditionals and print. (basic)\n",
    "\n",
    "use folowing list instead of the asummed 30cm :advance_cm = [30, 21, 33, 77, 44, 45, 23, 45, 12, 34, 55]\n",
    "How long does it take to raise the well?\n",
    "\n",
    "What is its maximum displacement in one day? And its minimum?\n",
    "\n",
    "What is its average speed during the day?\n",
    "\n",
    "What is the standard deviation of its displacement during the day?(bonus)"
   ]
  },
  {
   "cell_type": "code",
   "execution_count": 32,
   "metadata": {},
   "outputs": [
    {
     "name": "stdout",
     "output_type": "stream",
     "text": [
      "snail escaped!!! day:  11\n"
     ]
    }
   ],
   "source": [
    "import numpy as np\n",
    "import statistics as st\n",
    "d,i=0,0\n",
    "while i < 125:\n",
    "    i=i+30\n",
    "    d=d+1\n",
    "    if i >= 125:\n",
    "        print ('snail escaped!!! day: ', d)\n",
    "        break\n",
    "    else:\n",
    "        i=i-20\n",
    "  "
   ]
  },
  {
   "cell_type": "code",
   "execution_count": 50,
   "metadata": {},
   "outputs": [
    {
     "name": "stdout",
     "output_type": "stream",
     "text": [
      "snail escaped!!! day= 5\n"
     ]
    }
   ],
   "source": [
    "\"bonus list code\"\n",
    "adv_cm = [30,21,33,77,44,45,23,45,12,34,55,]\n",
    "d,i=0,0\n",
    "while i < 125:\n",
    "    i=i+adv_cm[d]\n",
    "    d=d+1\n",
    "    if i >= 125:\n",
    "        print ('snail escaped!!! day=', d)\n",
    "    else:\n",
    "        i=i-20"
   ]
  },
  {
   "cell_type": "code",
   "execution_count": 51,
   "metadata": {},
   "outputs": [
    {
     "name": "stdout",
     "output_type": "stream",
     "text": [
      "snail escaped!!! day= 5\n",
      "Distancia total 205\n",
      "mean distance traveled in day  41.0\n",
      "maximum distance traveled in day  77\n",
      "minimum distance traveled in day  21\n",
      "standart deviation 21.737 to the thoulsanths decimal\n"
     ]
    }
   ],
   "source": [
    "\"bonus list code complete\"\n",
    "\n",
    "adv_cm = [30,21,33,77,44,45,23,45,12,34,55,]\n",
    "ot =[]\n",
    "d,i,dist=0,0,0\n",
    "for x in adv_cm:\n",
    "    i=i+x\n",
    "    dist=dist+x\n",
    "    ot.append(adv_cm[d])\n",
    "    d=d+1\n",
    "    if i >= 125:\n",
    "        print ('snail escaped!!! day=', d)\n",
    "        dist=dist-i+125\n",
    "        break\n",
    "    else:\n",
    "        i=i-20\n",
    "        #dist=dist+20\n",
    "print(\"Distancia total\",dist)\n",
    "print ('mean distance traveled in day ', dist/d)\n",
    "print(\"maximum distance traveled in day \", max(ot))\n",
    "print(\"minimum distance traveled in day \", min(ot))\n",
    "print('standart deviation %6.3f' %st.stdev(ot), 'to the thoulsanths decimal')"
   ]
  },
  {
   "cell_type": "code",
   "execution_count": null,
   "metadata": {},
   "outputs": [],
   "source": []
  },
  {
   "cell_type": "code",
   "execution_count": null,
   "metadata": {},
   "outputs": [],
   "source": []
  }
 ],
 "metadata": {
  "kernelspec": {
   "display_name": "Python 3",
   "language": "python",
   "name": "python3"
  },
  "language_info": {
   "codemirror_mode": {
    "name": "ipython",
    "version": 3
   },
   "file_extension": ".py",
   "mimetype": "text/x-python",
   "name": "python",
   "nbconvert_exporter": "python",
   "pygments_lexer": "ipython3",
   "version": "3.7.1"
  }
 },
 "nbformat": 4,
 "nbformat_minor": 2
}
