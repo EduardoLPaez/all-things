{
 "cells": [
  {
   "cell_type": "markdown",
   "metadata": {},
   "source": [
    "You are witnessing an epic battle between two powerful sorcerers: Gandalf and Saruman. Each sorcerer has 10 spells of variable power in their mind and they are going to throw them one after the other. The winner of the duel will be the one who wins more of those clashes between spells. Spells are represented as a list of 10 integers whose value equals the power of the spell.\n",
    "\n",
    "gandalf = [10, 11, 13, 30, 22, 11, 10, 33, 22, 22]\n",
    "saruman = [23, 66, 12, 43, 12, 10, 44, 23, 12, 17]\n",
    "For example:\n",
    "\n",
    "The first clash is won by Saruman: 10 against 23, wins 23\n",
    "The second clash wins Saruman: 11 against 66, wins 66\n",
    "etc.\n",
    "You will create two variables, one for each sorcerer, where the sum of clashes won will be stored. Depending on which variable is greater at the end of the duel, you will show one of the following three results on the screen:\n",
    "\n",
    "Gandalf wins\n",
    "Saruman wins\n",
    "Tie\n",
    "goal:\n",
    "\n",
    "Treatment of lists\n",
    "Use of for loop\n",
    "Use of conditional if-elif-else\n",
    "Use of the functions range(), len()\n",
    "Print\n",
    "bonus:\n",
    "\n",
    "Spells now have a name and there is a dictionary that relates that name to a power.\n",
    "A sorcerer wins if he succeeds in winning 3 spell clashes in a row.\n",
    "Average of each of the spell lists.\n",
    "Standard deviation of each of the spell lists.\n",
    "POWER = {\n",
    "    'Fireball': 50, \n",
    "    'Lightning bolt': 40, \n",
    "    'Magic arrow': 10, \n",
    "    'Black Tentacles': 25, \n",
    "    'Contagion': 45\n",
    "}\n",
    "\n",
    "gandalf = ['Fireball', 'Lightning bolt', 'Lightning bolt', 'Magic arrow', 'Fireball', \n",
    "           'Magic arrow', 'Lightning bolt', 'Fireball', 'Fireball', 'Fireball']\n",
    "saruman = ['Contagion', 'Contagion', 'Black Tentacles', 'Fireball', 'Black Tentacles', \n",
    "           'Lightning bolt', 'Magic arrow', 'Contagion', 'Magic arrow', 'Magic arrow']"
   ]
  },
  {
   "cell_type": "code",
   "execution_count": 1,
   "metadata": {},
   "outputs": [],
   "source": [
    "import statistics as st\n",
    "import random as ran"
   ]
  },
  {
   "cell_type": "code",
   "execution_count": 2,
   "metadata": {},
   "outputs": [
    {
     "name": "stdout",
     "output_type": "stream",
     "text": [
      "Saruman hit round  1\n",
      "Saruman hit round  2\n",
      "Saruman hit round  3\n",
      "Gandalf hit round  4\n",
      "Gandalf hit round  5\n",
      "Saruman hit round  6\n",
      "Saruman hit round  7\n",
      "Gandalf hit round  8\n",
      "Saruman hit round  9\n",
      "Gandalf hit round  10\n",
      "Saruman win\n"
     ]
    }
   ],
   "source": [
    "gan=[10, 11, 13, 30, 22, 11, 10, 33, 22, 22]\n",
    "sar=[23, 66, 12, 43, 12, 10, 44, 23, 12, 17]\n",
    "i,I,r,G,S=0,0,0,0,0\n",
    "for x in range (10):\n",
    "    i = ran.randint(0,9)\n",
    "    I = ran.randint(0,9)\n",
    "    r=r+1\n",
    "    if gan[i]>sar[I]:\n",
    "        print ('Gandalf hit round ',r)\n",
    "        G=G+1\n",
    "    elif sar[I]>gan[i]:\n",
    "        print ('Saruman hit round ',r)\n",
    "        S=S+1 \n",
    "    else:\n",
    "        print ('tie round',r)\n",
    "if G>S:\n",
    "    print('Gandalf WIN!')\n",
    "elif S>G:\n",
    "    print('Saruman win')\n",
    "else:\n",
    "    print('TIE!')\n"
   ]
  },
  {
   "cell_type": "code",
   "execution_count": 3,
   "metadata": {},
   "outputs": [
    {
     "name": "stdout",
     "output_type": "stream",
     "text": [
      "Gandalf hit round  1\n",
      "Saruman hit round  2\n",
      "Saruman hit round  3\n",
      "Saruman hit round  4\n",
      "Saruman hit round  5\n",
      "Saruman hit round  6\n",
      "Saruman hit round  7\n",
      "Saruman hit round  8\n",
      "Gandalf hit round  9\n",
      "Saruman hit round  10\n",
      "Saruman win\n"
     ]
    }
   ],
   "source": [
    "gan=[10, 11, 13, 30, 22, 11, 10, 33, 22, 22]#gandalf list of spells.\n",
    "sar=[23, 66, 12, 43, 12, 10, 44, 23, 12, 17]#sruman's list of spells. \n",
    "i,I,r,G,S=0,0,0,0,0\n",
    "for x in range (10):#looping the game\n",
    "    i = ran.randint(0,9)#to randomly select a spell from their lists.\n",
    "    I = ran.randint(0,9)\n",
    "    r=r+1\n",
    "    if gan[i]>sar[I]:#checks for victor. prints round winner, then tallies it.\n",
    "        print ('Gandalf hit round ',r)\n",
    "        G=G+1\n",
    "    elif sar[I]>gan[i]:\n",
    "        print ('Saruman hit round ',r)\n",
    "        S=S+1 \n",
    "    else:\n",
    "        print ('tie round',r)\n",
    "if G>S:\n",
    "    print('Gandalf WIN!')\n",
    "elif S>G:\n",
    "    print('Saruman win')\n",
    "else:\n",
    "    print('TIE!')"
   ]
  },
  {
   "cell_type": "code",
   "execution_count": 10,
   "metadata": {},
   "outputs": [
    {
     "name": "stdout",
     "output_type": "stream",
     "text": [
      "gandalf cast  Fireball . Saruman cast  Lightning bolt . G win\n",
      "gandalf cast  Fireball . Saruman cast  Magic arrow . G win\n",
      "gandalf cast  Fireball . Saruman cast  Magic arrow . G win\n",
      "gandalf cast  Fireball . Saruman cast  Contagion . G win\n",
      "gandalf cast  Fireball . Saruman cast  Black Tentacles . G win\n",
      "gandalf cast  Fireball . Saruman cast  Magic arrow . G win\n",
      "gandalf cast  Magic arrow . Saruman cast  Black Tentacles . S win\n",
      "gandalf cast  Lightning bolt . Saruman cast  Contagion . S win\n",
      "gandalf cast  Magic arrow . Saruman cast  Fireball . S win\n",
      "Saruman WIN\n",
      "[50, 50, 40, 50, 10, 50, 40, 10, 50, 50, 50, 10, 40, 10] [10, 45, 10, 10, 50, 10, 10, 50, 10, 45, 45, 50, 25, 50]\n",
      "mean of spell power for Gandalf  36.43 . mean of spell power for Saruman  30.00\n",
      "standart deviation for Gandalf cast spells, is  17.81 . While the stadart deviation for Sauman cast spells is  19.01\n"
     ]
    }
   ],
   "source": [
    "#'below are the dictionary and the two string list of spell names.'\n",
    "spelllist={'Fireball': 50, 'Lightning bolt': 40,'Magic arrow': 10,'Black Tentacles': 25, 'Contagion': 45} \n",
    "gan=['Fireball', 'Lightning bolt', 'Lightning bolt', 'Magic arrow', 'Fireball', \n",
    "     'Magic arrow', 'Lightning bolt', 'Fireball', 'Fireball', 'Fireball']\n",
    "sar=['Contagion', 'Contagion', 'Black Tentacles', 'Fireball', 'Black Tentacles', \n",
    "     'Lightning bolt', 'Magic arrow', 'Contagion', 'Magic arrow', 'Magic arrow']\n",
    "#'these lists are for keeping track of the numbers delt by each of the casters'\n",
    "ghits=[]\n",
    "shits=[]\n",
    "i,I,G,S=0,0,0,0\n",
    "#'main body, a loop running for a good while. given the obsene bias towards Gandalf ~20 is already enough,'\n",
    "#'set to 100 just on the safe side'\n",
    "for x in range (100):\n",
    "    #'rng for what spell is cast'\n",
    "    i = ran.randint(0,9)\n",
    "    I = ran.randint(0,9)\n",
    "    #'the if and else statements are for determining victory, and printing all the asked variables such as std and such.'\n",
    "    if spelllist[gan[i]] > spelllist[sar[I]]:#\n",
    "        G=G+1\n",
    "        S=0\n",
    "        print(\"gandalf cast \",gan[i], \". Saruman cast \", sar[I], \". G win\")\n",
    "        ghits.append(spelllist[gan[i]])\n",
    "        shits.append(spelllist[sar[i]])\n",
    "        #'this if is for closing the game, there is a similar on in Sarumans victory if.'\n",
    "        if G==3:\n",
    "            print ('Gandalf WIN')\n",
    "            print (ghits, shits)\n",
    "            print ('mean of spell power for Gandalf %6.2f'% st.mean(ghits), '. mean of spell power for Saruman %6.2f'% st.mean(shits))\n",
    "            print ('standart deviation for Gandalf cast spells, is %6.2f'%st.stdev(ghits),\n",
    "                   '. While the stadart deviation for Sauman cast spells is %6.2f'%st.stdev(shits) )\n",
    "            break \n",
    "            \n",
    "    elif spelllist[gan[i]]<spelllist[sar[I]]:\n",
    "        S=S+1\n",
    "        G=0 \n",
    "        print(\"gandalf cast \",gan[i], \". Saruman cast \", sar[I], \". S win\")\n",
    "        ghits.append(spelllist[gan[i]])\n",
    "        shits.append(spelllist[sar[i]])\n",
    "        if S==3:\n",
    "            print ('Saruman WIN')\n",
    "            print (ghits, shits)\n",
    "            print ('mean of spell power for Gandalf %6.2f'%st.mean(ghits), '. mean of spell power for Saruman %6.2f'% st.mean(shits))\n",
    "            print ('standart deviation for Gandalf cast spells, is %6.2f'%st.stdev(ghits),\n",
    "                   '. While the stadart deviation for Sauman cast spells is %6.2f'%st.stdev(shits) )\n",
    "            break\n",
    "    else:\n",
    "        S=0\n",
    "        G=0\n",
    "        ghits.append(spelllist[gan[i]])\n",
    "        shits.append(spelllist[sar[i]])\n",
    "    "
   ]
  },
  {
   "cell_type": "code",
   "execution_count": 9,
   "metadata": {},
   "outputs": [
    {
     "name": "stdout",
     "output_type": "stream",
     "text": [
      "spell name:  Lightning bolt\n",
      "spell dammage: 40\n"
     ]
    }
   ],
   "source": [
    "#as above but with a new list of spells.\n",
    "spelllist={'Fireball': 50, 'Lightning bolt': 40,'Magic arrow': 10,'Black Tentacles': 25, 'Contagion': 45} \n",
    "gan=['Fireball', 'Lightning bolt', 'Lightning bolt', 'Magic arrow', 'Fireball', \n",
    "     'Magic arrow', 'Lightning bolt', 'Fireball', 'Fireball', 'Fireball']\n",
    "sar=['Contagion', 'Contagion', 'Black Tentacles', 'Fireball', 'Black Tentacles', \n",
    "     'Lightning bolt', 'Magic arrow', 'Contagion', 'Magic arrow', 'Magic arrow']\n",
    "print (\"spell name: \",gan[ran.randint(0,9)])\n",
    "print (\"spell dammage:\",spelllist[gan[ran.randint(0,9)]])"
   ]
  },
  {
   "cell_type": "code",
   "execution_count": null,
   "metadata": {},
   "outputs": [],
   "source": []
  }
 ],
 "metadata": {
  "kernelspec": {
   "display_name": "Python 3",
   "language": "python",
   "name": "python3"
  },
  "language_info": {
   "codemirror_mode": {
    "name": "ipython",
    "version": 3
   },
   "file_extension": ".py",
   "mimetype": "text/x-python",
   "name": "python",
   "nbconvert_exporter": "python",
   "pygments_lexer": "ipython3",
   "version": "3.7.1"
  }
 },
 "nbformat": 4,
 "nbformat_minor": 2
}
