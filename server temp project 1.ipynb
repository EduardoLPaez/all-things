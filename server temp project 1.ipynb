{
 "cells": [
  {
   "cell_type": "markdown",
   "metadata": {},
   "source": [
    "<p>If the sensor detects more than 4 hours with temperatures greater than or equal to 70ºC or any temperature above 80ºC or the average exceeds 65ºC throughout the day, we must give the order to change the cooling system to avoid damaging the processor.\n",
    "\n",
    "We will guide you step by step so you can make the decision by calculating some intermediate steps:\n",
    "\n",
    "<br>Minimum temperature\n",
    "<br>Maximum temperature\n",
    "<br>Temperatures equal to or greater than 70ºC\n",
    "<br>Average temperatures throughout the day.\n",
    "<br>If there was a sensor failure at 03:00 and we did not capture the data, how would you estimate the value that we lack? Correct that value in the list of temperatures.\n",
    "<br>Bonus: Our maintenance staff is from the United States and does not understand the international metric system. Pass temperatures to Degrees Fahrenheit.\n",
    "</p>"
   ]
  },
  {
   "cell_type": "code",
   "execution_count": 50,
   "metadata": {},
   "outputs": [],
   "source": [
    "#import box\n",
    "import matplotlib.pyplot as plt\n",
    "import statistics as st\n",
    "from functools import total_ordering"
   ]
  },
  {
   "cell_type": "code",
   "execution_count": 94,
   "metadata": {},
   "outputs": [
    {
     "name": "stdout",
     "output_type": "stream",
     "text": [
      "minimum running temperature 33 C. Maximum reunning temperature 90 C. Average running temperature62.83 C.\n",
      "for americans: minimum running temperature 91.4 F. Maximum running temperature 194.0 F. Average running temperature145.10 F.\n",
      "Cooling system needs to be replaced.\n",
      "Time continuosly red lining or above: 8 hours.\n",
      "Spesific times:  [900, 1000, 1100, 1200, 1300, 1400, 1500, 1600] warning temperatures in C. [70, 76, 80, 81, 80, 83, 90, 79]\n"
     ]
    }
   ],
   "source": [
    "templ = [33,66,65,0,59,60,62,64,70,76,80,81,80,83,90,79,61,53,50,49,53,48,45,39]\n",
    "dangerw,i=0,0\n",
    "dangertemp=[]\n",
    "warningt=[]\n",
    "#loop is primarely to get hours above heat threshold.\n",
    "for place in templ:\n",
    "    if templ[i]>=70:\n",
    "        if templ[i-1]<70:\n",
    "            dangerw=0\n",
    "        dangerw = dangerw+1\n",
    "        warningt.append((i+1)*100)\n",
    "        dangertemp.append(templ[i])\n",
    "        #to fix the sensor eror\n",
    "    if templ[i]==0:\n",
    "        templ[i]=(templ[i-1]+templ[i+1])/2\n",
    "    i=i+1    \n",
    "\n",
    "#simple to get min and max, mean required statistics.         \n",
    "print ('minimum running temperature',min(templ),'C. Maximum reunning temperature', max(templ),\n",
    "       'C. Average running temperature%3.2f'% st.mean(templ),'C.')\n",
    "print ('for americans: minimum running temperature',1.8*min(templ)+32,'F. Maximum running temperature', \n",
    "       1.8*max(templ)+32,'F. Average running temperature%3.2f'%(st.mean(templ)*1.8+32),'F.')\n",
    "\n",
    "#the required check for high temperature. also added temperature print out and time. \n",
    "if  len(dangertemp) > 4  or st.mean(templ)>65 or 80 in dangertemp:\n",
    "    print ('Cooling system needs to be replaced.')\n",
    "    print('Time continuosly red lining or above:',dangerw,'hours.')\n",
    "    print('Spesific times: ', warningt, 'warning temperatures in C.',dangertemp)\n",
    "    \n"
   ]
  },
  {
   "cell_type": "code",
   "execution_count": 102,
   "metadata": {},
   "outputs": [
    {
     "name": "stdout",
     "output_type": "stream",
     "text": [
      "standart deviation,in C. 14.948 Mean in C.62.83\n",
      "standart deviation,in f. 26.901 Mean in F.144.79\n",
      "std of C tmeperature list multiplied by 1.8 26.907\n"
     ]
    }
   ],
   "source": [
    "#standart dev of list in c, and list in f\n",
    "templ = [33,66,65,0,59,60,62,64,70,76,80,81,80,83,90,79,61,53,50,49,53,48,45,39]\n",
    "templf=[]\n",
    "place, i=0,0\n",
    "for place in templ:\n",
    "    if templ[i]==0:\n",
    "        templ[i]=(templ[i-1]+templ[i+1])/2\n",
    "    i=i+1\n",
    "place, i=0,0\n",
    "for place in templ:\n",
    "    templf.append(int(1.8*templ[i]+32))\n",
    "    i=i+1\n",
    "print('standart deviation,in C. %3.3f'%st.stdev(templ),'Mean in C.%3.2f'%st.mean(templ))\n",
    "print('standart deviation,in f. %3.3f'%st.stdev(templf),'Mean in F.%3.2f'%st.mean(templf))\n",
    "print('std of C tmeperature list multiplied by 1.8 %3.3f'%(st.stdev(templ)*1.8))"
   ]
  },
  {
   "cell_type": "code",
   "execution_count": null,
   "metadata": {},
   "outputs": [],
   "source": []
  }
 ],
 "metadata": {
  "kernelspec": {
   "display_name": "Python 3",
   "language": "python",
   "name": "python3"
  },
  "language_info": {
   "codemirror_mode": {
    "name": "ipython",
    "version": 3
   },
   "file_extension": ".py",
   "mimetype": "text/x-python",
   "name": "python",
   "nbconvert_exporter": "python",
   "pygments_lexer": "ipython3",
   "version": "3.7.1"
  }
 },
 "nbformat": 4,
 "nbformat_minor": 2
}
