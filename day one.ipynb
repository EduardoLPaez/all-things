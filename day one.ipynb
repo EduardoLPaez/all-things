{
 "cells": [
  {
   "cell_type": "code",
   "execution_count": 3,
   "metadata": {},
   "outputs": [
    {
     "name": "stdout",
     "output_type": "stream",
     "text": [
      "Hello, world!!\n"
     ]
    }
   ],
   "source": [
    "message = \"Hello, world!!\"\n",
    "print(message)"
   ]
  },
  {
   "cell_type": "markdown",
   "metadata": {},
   "source": [
    "rember to make hidend folders visible , must do for programing. \n",
    "\n",
    "git init (initialises git)\n",
    "git add filename (git add . adds all files to reppository.)\n",
    "all this does is watch those files. \n",
    "\n",
    "git commit -m \"mesage no punctuation\"\n",
    "should say initiaised add list delete list ect.\n",
    "git status (returns changes)\n",
    "will need to git add the file change then git commit to commit the change.\n",
    "\n",
    "git reset longassid (will reset to id give)\n",
    "\n",
    "git reset -hard (hard reset, not used lightly)\n",
    "pretend things are mean and complicated. \n",
    "git checkout -b 'variable'(makes the branch variable)\n",
    "git status (will tell you brach you on)\n",
    "git add filename (same as above.)\n",
    "big thing is then. add what you want it to look at, when ya conftable commit the change and continue till ya done.\n",
    "git merge (go back to masterbranch first. to do so you go git checkout without the -b)\n",
    "git checkout(then you can merge.)\n",
    "git merge(changes made in the branch are then merged into the branch)\n",
    "remember to not make changes to master after making a branch, things can get verry explody verry quick\n",
    "donot use skip tools yet, things could get muddy right quick if not carefull.\n",
    "git push origin master (would push to an existing repository that is sinched.)\n",
    " submiting a pull request. "
   ]
  },
  {
   "cell_type": "markdown",
   "metadata": {},
   "source": [
    "check out \"Alfred\" used to facilitate typing. its for dang mac, check what is there for windows.\n"
   ]
  },
  {
   "cell_type": "markdown",
   "metadata": {},
   "source": [
    "lab1 todo: fork -> clone from your rep -> find and modefy spesific file -> hard reset -> after all the changes and conflicts, \n",
    "-> make a push request. "
   ]
  }
 ],
 "metadata": {
  "kernelspec": {
   "display_name": "Python 3",
   "language": "python",
   "name": "python3"
  },
  "language_info": {
   "codemirror_mode": {
    "name": "ipython",
    "version": 3
   },
   "file_extension": ".py",
   "mimetype": "text/x-python",
   "name": "python",
   "nbconvert_exporter": "python",
   "pygments_lexer": "ipython3",
   "version": "3.7.1"
  }
 },
 "nbformat": 4,
 "nbformat_minor": 2
}
