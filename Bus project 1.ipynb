{
 "cells": [
  {
   "cell_type": "markdown",
   "metadata": {},
   "source": [
    "This bus has a passenger entry and exit control system to monitor the number of occupants it carries and thus detect when there is too high a capacity.\n",
    "\n",
    "At each stop the entry and exit of passengers is represented by a tuple consisting of two integer numbers.\n",
    "\n",
    "bus_stop = (in, out)\n",
    "The succession of stops is represented by a list of these tuples.\n",
    "\n",
    "stops = [(in1, out1), (in2, out2), (in3, out3), (in4, out4)]\n",
    "Goals:\n",
    "lists, tuples\n",
    "while/for loops\n",
    "minimum, maximum, length\n",
    "average, standard deviation\n",
    "Tasks\n",
    "Calculate the number of stops.\n",
    "Assign to a variable a list whose elements are the number of passengers at each stop (in-out),\n",
    "Find the maximum occupation of the bus.\n",
    "Calculate the average occupation. And the standard deviation.\n"
   ]
  },
  {
   "cell_type": "code",
   "execution_count": 1,
   "metadata": {},
   "outputs": [],
   "source": [
    "\"Import block, all imports used in this project.\"\n",
    "import random as rp"
   ]
  },
  {
   "cell_type": "code",
   "execution_count": 3,
   "metadata": {},
   "outputs": [
    {
     "name": "stdout",
     "output_type": "stream",
     "text": [
      "this is the list of stops, (people in, people out) [(3, 0), (8, 11), (9, 0), (4, 8), (2, 0), (10, 14), (2, 2), (5, 6), (2, 1), (9, 1), (6, 4), (6, 9), (10, 20), (7, 2), (10, 6), (8, 6), (1, 11), (0, 1), (3, 1), (4, 5), (6, 7), (3, 2), (3, 0), (7, 5), (9, 12)]\n",
      "list of rider counts before stop [3, 0, 9, 5, 7, 3, 3, 2, 3, 11, 13, 10, 0, 5, 9, 11, 1, 0, 2, 1, 0, 1, 4, 6, 3]\n"
     ]
    }
   ],
   "source": [
    "\"firts defined the list of touples used for each stop. then there is i for the ones coming in, o for the ones going out\"\n",
    "\"oc is for ocupantc chek to make sure the number of ocupants on the bus can never reach a negative number se while statement below\"\n",
    "\"ocupants is for keeping trac of those in the bus. oclist is the list of these numbers\"\n",
    "stops =[]\n",
    "i,I,o,oc=0,0,0,0\n",
    "ocupants=0\n",
    "oclist=[]\n",
    "\n",
    "\"for loop to simulate the bus route, randomised the in and out, and as mentioned above used a conditinal to check\"\n",
    "\"for bus population to  remain either positive or 0\"\n",
    "for i in range(25):\n",
    "    \n",
    "    \"this if is to make the first o a 0. ie no people can get out\"\n",
    "    \"of the buss at stop one since there is supose to be no one in there yet\"\n",
    "    if i==0:\n",
    "        i=rp.randint(0,10)\n",
    "        ocupants = ocupants-o+i\n",
    "        oc =ocupants\n",
    "        stops.append((i,o))\n",
    "        #I=I+1\n",
    "        #print ('ocupants at stop ', I,  ocupants)\n",
    "        oclist.append(ocupants)\n",
    "        \n",
    "    else:\n",
    "        i=rp.randint(0,10)\n",
    "        o=rp.randint(0,20)\n",
    "        oc = ocupants-o+i\n",
    "        \n",
    "        \"this is the check to make sure ocupants is not negative\"\n",
    "        while oc <0:\n",
    "            o=rp.randint(0,15)\n",
    "            oc = ocupants\n",
    "            oc = ocupants-o+i     \n",
    "        ocupants = ocupants-o+i\n",
    "        stops.append((i,o))\n",
    "        #I=I+1\n",
    "        #print ('ocupants at stop ', I, ocupants)\n",
    "        oclist.append(ocupants)\n",
    "print (\"this is the list of stops, (people in, people out)\", stops)\n",
    "print (\"list of rider counts before stop\", oclist)"
   ]
  },
  {
   "cell_type": "code",
   "execution_count": null,
   "metadata": {},
   "outputs": [],
   "source": []
  }
 ],
 "metadata": {
  "kernelspec": {
   "display_name": "Python 3",
   "language": "python",
   "name": "python3"
  },
  "language_info": {
   "codemirror_mode": {
    "name": "ipython",
    "version": 3
   },
   "file_extension": ".py",
   "mimetype": "text/x-python",
   "name": "python",
   "nbconvert_exporter": "python",
   "pygments_lexer": "ipython3",
   "version": "3.7.1"
  }
 },
 "nbformat": 4,
 "nbformat_minor": 2
}
