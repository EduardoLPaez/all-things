{
 "cells": [
  {
   "cell_type": "markdown",
   "metadata": {},
   "source": [
    "In the 2-dimensional space, a point can be defined by a pair of values that correspond to the horizontal coordinate (x) and the vertical coordinate (y). The space can be divided into 4 zones (quadrants): Q1, Q2, Q3, Q4. Whose single point of union is the point (0, 0).\n",
    "\n",
    "If a point is in Q1 both its x coordinate and the y are positive. I leave a link to wikipedia to familiarize yourself with these quadrants.\n",
    "\n",
    "https://en.wikipedia.org/wiki/Cartesian_coordinate_system\n",
    "\n",
    "https://en.wikipedia.org/wiki/Euclidean_distance\n",
    "\n",
    "Shots\n",
    "points = [(4, 5), (-0, 2), (4, 7), (1, -3), (3, -2), (4, 5),\n",
    "          (3, 2), (5, 7), (-5, 7), (2, 2), (-4, 5), (0, -2),\n",
    "          (-4, 7), (-1, 3), (-3, 2), (-4, -5), (-3, 2),\n",
    "          (5, 7), (5, 7), (2, 2), (9, 9), (-8, -9)]\n",
    "Tasks\n",
    "Robin Hood is famous for hitting an arrow with another arrow. Did you get it?\n",
    "Calculate how many arrows have fallen in each quadrant.\n",
    "Find the point closest to the center. Calculate its distance to the center.\n",
    "If the target has a radius of 9, calculate the number of arrows that must be picked up in the forest"
   ]
  },
  {
   "cell_type": "code",
   "execution_count": 1,
   "metadata": {},
   "outputs": [],
   "source": [
    "#import box\n",
    "import math as mt"
   ]
  },
  {
   "cell_type": "code",
   "execution_count": 2,
   "metadata": {},
   "outputs": [],
   "source": [
    "#function box\n",
    "def DIC (x,y):#returns distance from center, in this case center = 0,0.\n",
    "    cx,cy =0,0\n",
    "    dic = mt.sqrt((cx-x)**2+(cy-y)**2)\n",
    "    return (dic)\n",
    "def Quadrant(x,y):#returns wich quadrant the shot landed in\n",
    "    if   x>=0 and y>=0:\n",
    "        return(1)\n",
    "    elif x>=0 and y<=0:\n",
    "        return(2)\n",
    "    elif x<=0 and y<=0:\n",
    "        return(3)\n",
    "    elif x<=0 and y>=0:\n",
    "        return(4)\n",
    "    else:\n",
    "        return(0)"
   ]
  },
  {
   "cell_type": "code",
   "execution_count": 3,
   "metadata": {},
   "outputs": [
    {
     "name": "stdout",
     "output_type": "stream",
     "text": [
      "2.24\n"
     ]
    }
   ],
   "source": [
    "ttest= (2,1)#testing touples to functions, and calling functions\n",
    "print ('%2.2f'%DIC(ttest[0],ttest[1]))"
   ]
  },
  {
   "cell_type": "code",
   "execution_count": 4,
   "metadata": {},
   "outputs": [
    {
     "name": "stdout",
     "output_type": "stream",
     "text": [
      "shot id# 1  distace from bullseye= 6.40  score = 3.60 quadrant 1\n",
      "shot id# 2  distace from bullseye= 2.00  score = 8.00 quadrant 1\n",
      "shot id# 3  distace from bullseye= 8.06  score = 1.94 quadrant 1\n",
      "shot id# 4  distace from bullseye= 3.16  score = 6.84 quadrant 2\n",
      "shot id# 5  distace from bullseye= 3.61  score = 6.39 quadrant 2\n",
      "shot id# 6  distace from bullseye= 6.40  score = 3.60 quadrant 1\n",
      "shot id# 7  distace from bullseye= 3.61  score = 6.39 quadrant 1\n",
      "shot id# 8  distace from bullseye= 8.60  score = 1.40 quadrant 1\n",
      "shot id# 9  distace from bullseye= 8.60  score = 1.40 quadrant 4\n",
      "shot id# 10  distace from bullseye= 2.83  score = 7.17 quadrant 1\n",
      "shot id# 11  distace from bullseye= 6.40  score = 3.60 quadrant 4\n",
      "shot id# 12  distace from bullseye= 2.00  score = 8.00 quadrant 2\n",
      "shot id# 13  distace from bullseye= 8.06  score = 1.94 quadrant 4\n",
      "shot id# 14  distace from bullseye= 3.16  score = 6.84 quadrant 4\n",
      "shot id# 15  distace from bullseye= 3.61  score = 6.39 quadrant 4\n",
      "shot id# 16  distace from bullseye= 6.40  score = 3.60 quadrant 3\n",
      "shot id# 17  distace from bullseye= 3.61  score = 6.39 quadrant 4\n",
      "shot id# 18  distace from bullseye= 8.60  score = 1.40 quadrant 1\n",
      "shot id# 19  distace from bullseye= 8.60  score = 1.40 quadrant 1\n",
      "shot id# 20  distace from bullseye= 2.83  score = 7.17 quadrant 1\n",
      "shot id# 21  shot out of bounds  score 0\n",
      "shot id# 22  shot out of bounds  score 0\n",
      "Robin hood shot arrow # (2, 2) [(2, 2), (2, 2)]\n",
      "#of out of bounds shots: 2\n"
     ]
    }
   ],
   "source": [
    "shotpoint=[(4, 5), (-0, 2), (4, 7), (1, -3), (3, -2), (4, 5),\n",
    "          (3, 2), (5, 7), (-5, 7), (2, 2), (-4, 5), (0, -2),\n",
    "          (-4, 7), (-1, 3), (-3, 2), (-4, -5), (-3, 2),\n",
    "          (5, 7), (5, 7), (2, 2), (9, 9), (-8, -9)]   #given data list\n",
    "shotc, dic,outofb= 0,0,0\n",
    "scorelist=[]\n",
    "quadrantlist=[]\n",
    "robina=[]\n",
    "for i in shotpoint:\n",
    "    dic = DIC(shotpoint[shotc][0],shotpoint[shotc][1])\n",
    "    if dic <=9:\n",
    "        scorelist.append(10-dic)\n",
    "        quadrantlist.append(Quadrant(shotpoint[shotc][0],shotpoint[shotc][1]))\n",
    "        print ('shot id#',(shotc+1),' distace from bullseye= %2.2f'%dic, ' score = %2.2f'%(scorelist[shotc]), 'quadrant',\n",
    "               quadrantlist[shotc] )\n",
    "\n",
    "    else:\n",
    "        print ('shot id#',(shotc+1), ' shot out of bounds ','score 0')\n",
    "        outofb= outofb+1\n",
    "  #this conditional is for cheking what shots hit the same target. these would be the likeliest to be Robinhhod    \n",
    "    if shotpoint.count(i)==2 and scorelist[shotc]>7:\n",
    "        robina.append(i)\n",
    "    \n",
    "    shotc= shotc+1\n",
    "\n",
    "    \n",
    "print('Robin hood shot arrow #', min(robina), robina)\n",
    "print('#of out of bounds shots:',outofb)"
   ]
  }
 ],
 "metadata": {
  "kernelspec": {
   "display_name": "Python 3",
   "language": "python",
   "name": "python3"
  },
  "language_info": {
   "codemirror_mode": {
    "name": "ipython",
    "version": 3
   },
   "file_extension": ".py",
   "mimetype": "text/x-python",
   "name": "python",
   "nbconvert_exporter": "python",
   "pygments_lexer": "ipython3",
   "version": "3.7.1"
  }
 },
 "nbformat": 4,
 "nbformat_minor": 2
}
